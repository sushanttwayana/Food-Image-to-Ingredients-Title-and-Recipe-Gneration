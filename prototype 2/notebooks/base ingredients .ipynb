version https://git-lfs.github.com/spec/v1
oid sha256:690462aa8934b94ba6776f293a6c3c50c8f3ebe309a1c4ddb00d3efdfc83a52a
size 175371
