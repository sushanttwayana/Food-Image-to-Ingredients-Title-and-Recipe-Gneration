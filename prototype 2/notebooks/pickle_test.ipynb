version https://git-lfs.github.com/spec/v1
oid sha256:95275dbc53f0bcca102b100010771e0c95fa80fdfa3abd7d77eff4f46915e379
size 4334003
