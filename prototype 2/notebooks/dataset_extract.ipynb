version https://git-lfs.github.com/spec/v1
oid sha256:7f779003858b1d1b29caace5e595f59101c71caaff7d9750da1a86e9121d18eb
size 22972760
